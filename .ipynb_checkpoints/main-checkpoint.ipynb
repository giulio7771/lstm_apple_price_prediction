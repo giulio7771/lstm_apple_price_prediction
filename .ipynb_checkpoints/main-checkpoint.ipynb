{
 "cells": [
  {
   "cell_type": "markdown",
   "metadata": {},
   "source": [
    "# Predição do Preço das Ações da Apple\n",
    "\n",
    "FURB - Ciência de Dados 2020/2 - Giulio Giovanella\n",
    "\n",
    "O objetivo desse trabalho é criar um modelo de rede neural recorrente que tente prever os preços futuros das ações da Apple (APPL). Para isso foi usada uma rede recorrente Long Short-Term Memory (LSTM), seguinte a proposta de Usman Malik em \"Time Series Analysis with LSTM using Python's Keras Library\", disponível em: https://stackabuse.com/time-series-analysis-with-lstm-using-pythons-keras-library/\n",
    "\n",
    "\n",
    "Utilizando os dados fornacidos pelo Yahoo Finance do histórico de preços e indicadores dos preços das ações da Apple, disponíveis em: https://finance.yahoo.com/quote/AAPL/history?period1=1514764800&period2=1517356800&interval=1d&filter=history&frequency=1d&includeAdjustedClose=true\n",
    "\n"
   ]
  },
  {
   "cell_type": "code",
   "execution_count": 4,
   "metadata": {},
   "outputs": [],
   "source": [
    "#importando as dependências do projeto\n",
    "import numpy as np\n",
    "import matplotlib.pyplot as plt\n",
    "import pandas as pd\n",
    "\n",
    "from keras.models import Sequential\n",
    "from keras.layers import Dense\n",
    "from keras.layers import LSTM\n",
    "from keras.layers import Dropout\n",
    "\n",
    "from sklearn.preprocessing import MinMaxScaler\n",
    "import tensorflow as tf"
   ]
  },
  {
   "cell_type": "markdown",
   "metadata": {},
   "source": [
    "**Carregando e preparando os dados**\n",
    "Os dados baixados do Yahoo Finance estão em formato csv, e são referentes ao gráfico diário da cotação.\n",
    "\n",
    "**<p>-> remoção da coluna do preço de fechamento**\n",
    "**<p>-> normalização**\n",
    "**<p>-> reshape**\n",
    "\n",
    "Cabeçalho dos dados\n",
    "\n",
    " Date; Open; High; Low; Close; Adj Close; Volume.\n",
    " \n",
    " Data; valor abertura; valor máximo; valor mínima; valor de fechamento; Adj Close;  volume de negociações"
   ]
  },
  {
   "cell_type": "code",
   "execution_count": null,
   "metadata": {},
   "outputs": [],
   "source": [
    "#carregando o dataset do arquivo csv baixado do Yahoo Finance\n",
    "apple_training_complete = pd.read_csv('dataset/AAPL_2017.csv')"
   ]
  },
  {
   "cell_type": "code",
   "execution_count": 28,
   "metadata": {},
   "outputs": [
    {
     "data": {
      "text/html": [
       "<div>\n",
       "<style scoped>\n",
       "    .dataframe tbody tr th:only-of-type {\n",
       "        vertical-align: middle;\n",
       "    }\n",
       "\n",
       "    .dataframe tbody tr th {\n",
       "        vertical-align: top;\n",
       "    }\n",
       "\n",
       "    .dataframe thead th {\n",
       "        text-align: right;\n",
       "    }\n",
       "</style>\n",
       "<table border=\"1\" class=\"dataframe\">\n",
       "  <thead>\n",
       "    <tr style=\"text-align: right;\">\n",
       "      <th></th>\n",
       "      <th>Date</th>\n",
       "      <th>Open</th>\n",
       "      <th>High</th>\n",
       "      <th>Low</th>\n",
       "      <th>Close</th>\n",
       "      <th>Adj Close</th>\n",
       "      <th>Volume</th>\n",
       "    </tr>\n",
       "  </thead>\n",
       "  <tbody>\n",
       "    <tr>\n",
       "      <th>0</th>\n",
       "      <td>2013-01-02</td>\n",
       "      <td>19.779285</td>\n",
       "      <td>19.821428</td>\n",
       "      <td>19.343929</td>\n",
       "      <td>19.608213</td>\n",
       "      <td>16.926661</td>\n",
       "      <td>560518000</td>\n",
       "    </tr>\n",
       "    <tr>\n",
       "      <th>1</th>\n",
       "      <td>2013-01-03</td>\n",
       "      <td>19.567142</td>\n",
       "      <td>19.631071</td>\n",
       "      <td>19.321428</td>\n",
       "      <td>19.360714</td>\n",
       "      <td>16.713015</td>\n",
       "      <td>352965200</td>\n",
       "    </tr>\n",
       "    <tr>\n",
       "      <th>2</th>\n",
       "      <td>2013-01-04</td>\n",
       "      <td>19.177500</td>\n",
       "      <td>19.236786</td>\n",
       "      <td>18.779642</td>\n",
       "      <td>18.821428</td>\n",
       "      <td>16.247477</td>\n",
       "      <td>594333600</td>\n",
       "    </tr>\n",
       "    <tr>\n",
       "      <th>3</th>\n",
       "      <td>2013-01-07</td>\n",
       "      <td>18.642857</td>\n",
       "      <td>18.903572</td>\n",
       "      <td>18.400000</td>\n",
       "      <td>18.710714</td>\n",
       "      <td>16.151909</td>\n",
       "      <td>484156400</td>\n",
       "    </tr>\n",
       "    <tr>\n",
       "      <th>4</th>\n",
       "      <td>2013-01-08</td>\n",
       "      <td>18.900356</td>\n",
       "      <td>18.996071</td>\n",
       "      <td>18.616072</td>\n",
       "      <td>18.761072</td>\n",
       "      <td>16.195379</td>\n",
       "      <td>458707200</td>\n",
       "    </tr>\n",
       "  </tbody>\n",
       "</table>\n",
       "</div>"
      ],
      "text/plain": [
       "         Date       Open       High        Low      Close  Adj Close  \\\n",
       "0  2013-01-02  19.779285  19.821428  19.343929  19.608213  16.926661   \n",
       "1  2013-01-03  19.567142  19.631071  19.321428  19.360714  16.713015   \n",
       "2  2013-01-04  19.177500  19.236786  18.779642  18.821428  16.247477   \n",
       "3  2013-01-07  18.642857  18.903572  18.400000  18.710714  16.151909   \n",
       "4  2013-01-08  18.900356  18.996071  18.616072  18.761072  16.195379   \n",
       "\n",
       "      Volume  \n",
       "0  560518000  \n",
       "1  352965200  \n",
       "2  594333600  \n",
       "3  484156400  \n",
       "4  458707200  "
      ]
     },
     "execution_count": 28,
     "metadata": {},
     "output_type": "execute_result"
    }
   ],
   "source": [
    "apple_training_complete[:5]"
   ]
  },
  {
   "cell_type": "code",
   "execution_count": null,
   "metadata": {},
   "outputs": [],
   "source": [
    "#cabeçalho dos dados\n",
    "# Date  Open    High    Low    Close   Adj Close   Volume\n",
    "# data; valor abertura; valor máximo; valor mínima; valor de fechamento; asd;  volume de negociações\n",
    "\n",
    "#separando coluna de abertura\n",
    "apple_training_processed = apple_training_complete.iloc[:, 1:2].values"
   ]
  },
  {
   "cell_type": "code",
   "execution_count": 34,
   "metadata": {},
   "outputs": [
    {
     "data": {
      "text/plain": [
       "(1259, 1)"
      ]
     },
     "execution_count": 34,
     "metadata": {},
     "output_type": "execute_result"
    }
   ],
   "source": [
    "apple_training_processed.shape"
   ]
  },
  {
   "cell_type": "code",
   "execution_count": 35,
   "metadata": {},
   "outputs": [
    {
     "data": {
      "text/plain": [
       "array([19.779285])"
      ]
     },
     "execution_count": 35,
     "metadata": {},
     "output_type": "execute_result"
    }
   ],
   "source": [
    "apple_training_processed[0]"
   ]
  },
  {
   "cell_type": "code",
   "execution_count": 37,
   "metadata": {},
   "outputs": [
    {
     "data": {
      "text/plain": [
       "array([[0.19795893],\n",
       "       [0.19086893],\n",
       "       [0.17784675],\n",
       "       [0.15997852],\n",
       "       [0.16858436]])"
      ]
     },
     "execution_count": 37,
     "metadata": {},
     "output_type": "execute_result"
    }
   ],
   "source": [
    "#normalizando os dados para a faixa de 0 - 1\n",
    "scaler = MinMaxScaler(feature_range = (0, 1))\n",
    "apple_training_scaled = scaler.fit_transform(apple_training_processed)\n",
    "apple_training_scaled[:5]"
   ]
  },
  {
   "cell_type": "code",
   "execution_count": 39,
   "metadata": {},
   "outputs": [
    {
     "data": {
      "text/plain": [
       "array([0.19086893, 0.17784675, 0.15997852, 0.16858436, 0.16057535,\n",
       "       0.1677966 , 0.15878493, 0.13691816, 0.13169017, 0.12732156,\n",
       "       0.14602531, 0.13195272, 0.1391621 , 0.14423489, 0.08597521,\n",
       "       0.07605636, 0.05951303, 0.08418478, 0.08239436, 0.08237053,\n",
       "       0.08491289, 0.07870613, 0.06693724, 0.08176177, 0.0898544 ,\n",
       "       0.10268564, 0.10566962, 0.10926236, 0.09458104, 0.09137027,\n",
       "       0.09653854, 0.08728814, 0.08321795, 0.06926477, 0.07314397,\n",
       "       0.07863455, 0.06666273, 0.07216524, 0.06693724, 0.05971596,\n",
       "       0.04754118, 0.03999762, 0.05555025, 0.0436023 , 0.0499284 ,\n",
       "       0.04986871, 0.0568513 , 0.04831701, 0.05354504, 0.05963238,\n",
       "       0.06383385, 0.08537841, 0.08289567, 0.0743018 , 0.0795059 ,\n",
       "       0.09157317, 0.09246841, 0.08174984, 0.07382435, 0.06437099])"
      ]
     },
     "execution_count": 39,
     "metadata": {},
     "output_type": "execute_result"
    }
   ],
   "source": [
    "#alterando o formato dos dados para se adequar a rede neural\n",
    "features_set = []\n",
    "labels = []\n",
    "for i in range(60, 1259):\n",
    "    features_set.append(apple_training_scaled[i-60:i, 0])\n",
    "    j = apple_training_scaled[i, 0]\n",
    "    labels.append(j)\n",
    "\n",
    "features_set[1]"
   ]
  },
  {
   "cell_type": "code",
   "execution_count": 42,
   "metadata": {},
   "outputs": [
    {
     "data": {
      "text/plain": [
       "(1199, 60)"
      ]
     },
     "execution_count": 42,
     "metadata": {},
     "output_type": "execute_result"
    }
   ],
   "source": [
    "#convertendo os dados e os rótulos para arrays numpy, tipos primitivos do python não são aceitos\n",
    "features_set, labels = np.array(features_set), np.array(labels)\n",
    "\n",
    "features_set.shape"
   ]
  },
  {
   "cell_type": "code",
   "execution_count": 43,
   "metadata": {},
   "outputs": [
    {
     "data": {
      "text/plain": [
       "(1199, 60, 1)"
      ]
     },
     "execution_count": 43,
     "metadata": {},
     "output_type": "execute_result"
    }
   ],
   "source": [
    "#convertendo para o formato aceito pela rede neural\n",
    "#registros, dados, 1\n",
    "features_set = np.reshape(features_set, (features_set.shape[0], features_set.shape[1], 1))\n",
    "\n",
    "features_set.shape"
   ]
  },
  {
   "cell_type": "code",
   "execution_count": 6,
   "metadata": {},
   "outputs": [
    {
     "name": "stdout",
     "output_type": "stream",
     "text": [
      "WARNING:tensorflow:From C:\\Users\\giuliog\\AppData\\Local\\Continuum\\anaconda3\\lib\\site-packages\\tensorflow\\python\\ops\\resource_variable_ops.py:435: colocate_with (from tensorflow.python.framework.ops) is deprecated and will be removed in a future version.\n",
      "Instructions for updating:\n",
      "Colocations handled automatically by placer.\n"
     ]
    }
   ],
   "source": [
    "#criando a rede neural recorrente\n",
    "model = Sequential()\n",
    "\n",
    "model.add(LSTM(units=50, return_sequences=True, input_shape=(features_set.shape[1], 1)))\n",
    "\n",
    "model.add(Dropout(0.2))\n",
    "\n",
    "model.add(LSTM(units=50, return_sequences=True))\n",
    "model.add(Dropout(0.2))\n",
    "\n",
    "model.add(LSTM(units=50, return_sequences=True))\n",
    "model.add(Dropout(0.2))\n",
    "\n",
    "model.add(LSTM(units=50))\n",
    "model.add(Dropout(0.2))\n",
    "\n",
    "model.add(Dense(units = 1))\n",
    "\n",
    "model.compile(optimizer = 'adam', loss = 'mean_squared_error')"
   ]
  },
  {
   "cell_type": "code",
   "execution_count": 7,
   "metadata": {},
   "outputs": [],
   "source": [
    "checkpoint_file = \"checkpoint\""
   ]
  },
  {
   "cell_type": "code",
   "execution_count": 14,
   "metadata": {},
   "outputs": [
    {
     "name": "stdout",
     "output_type": "stream",
     "text": [
      "Epoch 1/3\n",
      "1199/1199 [==============================] - 6s 5ms/step - loss: 7.4675e-04\n",
      "Epoch 2/3\n",
      "1199/1199 [==============================] - 6s 5ms/step - loss: 6.7134e-04\n",
      "Epoch 3/3\n",
      "1199/1199 [==============================] - 6s 5ms/step - loss: 7.3403e-04\n"
     ]
    },
    {
     "data": {
      "text/plain": [
       "<keras.callbacks.callbacks.History at 0x23fb43e2a90>"
      ]
     },
     "execution_count": 14,
     "metadata": {},
     "output_type": "execute_result"
    }
   ],
   "source": [
    "#carregando os pesos da rede neural salvos no arquivo de checkpoint\n",
    "checkpoint_filepath = 'checkpoints/{}.ckpt'.format(checkpoint_file)\n",
    "model_checkpoint_callback = tf.keras.callbacks.ModelCheckpoint(\n",
    "filepath=checkpoint_filepath,\n",
    "save_weights_only=True,\n",
    "monitor='val_acc',\n",
    "mode='max',\n",
    "save_best_only=False,\n",
    "verbose=1)   \n",
    "\n",
    "model.load_weights(checkpoint_filepath)\n",
    "\n",
    "#treinando a rede neural \n",
    "model.fit(features_set, labels, epochs = 100, batch_size = 32)"
   ]
  },
  {
   "cell_type": "code",
   "execution_count": 12,
   "metadata": {},
   "outputs": [],
   "source": [
    "#selecionando dados para teste\n",
    "test_dataset_name = 'AAPL_jan_2018'"
   ]
  },
  {
   "cell_type": "code",
   "execution_count": 15,
   "metadata": {},
   "outputs": [
    {
     "data": {
      "image/png": "[encoded data removed]",
      "text/plain": [
       "<Figure size 720x432 with 1 Axes>"
      ]
     },
     "metadata": {
      "needs_background": "light"
     },
     "output_type": "display_data"
    }
   ],
   "source": [
    "#carregando dataset de testes\n",
    "apple_testing_complete = pd.read_csv('dataset/{}.csv'.format(test_dataset_name))\n",
    "\n",
    "apple_testing_processed = apple_testing_complete.iloc[:, 1:2].values\n",
    "\n",
    "apple_total = pd.concat((apple_training_complete['Open'], apple_testing_complete['Open']), axis=0)\n",
    "\n",
    "test_inputs = apple_total[len(apple_total) - len(apple_testing_complete) - 60:].values\n",
    "\n",
    "\n",
    "test_inputs = test_inputs.reshape(-1,1)\n",
    "test_inputs = scaler.transform(test_inputs)\n",
    "\n",
    "test_features = []\n",
    "for i in range(60, 80):\n",
    "    test_features.append(test_inputs[i-60:i, 0])\n",
    "\n",
    "test_features = np.array(test_features)\n",
    "test_features = np.reshape(test_features, (test_features.shape[0], test_features.shape[1], 1))\n",
    "\n",
    "predictions = model.predict(test_features)\n",
    "\n",
    "predictions = scaler.inverse_transform(predictions)\n",
    "\n",
    "\n",
    "plt.figure(figsize=(10,6))\n",
    "plt.plot(apple_testing_processed, color='blue', label='Actual Apple Stock Price')\n",
    "plt.plot(predictions , color='red', label='Predicted Apple Stock Price')\n",
    "plt.title('Apple Stock Price Prediction')\n",
    "plt.xlabel('Date')\n",
    "plt.ylabel('Apple Stock Price')\n",
    "plt.legend()\n",
    "plt.show()\n"
   ]
  },
  {
   "cell_type": "markdown",
   "metadata": {},
   "source": [
    "<p>O gráfico acima contém o resultado do treinamento com 200 épocas para o dataset com os dados do ano de 2017, e teste com os dados de Janeiro de 2018.\n",
    "\n",
    "<p>Analisando o gráfico este parece apresentar uma precisão muito boa em relação aos movimentos de subida e descida acontecidas no mês de Janeiro de 2018. Com base na linha vermelha, que marca a previsão da rede, o investidor poderia entrar comprado no começo do mês com a contação a 43 dólares, e posto uma ordem de venda na faixa dos 44 dólares, obtendo assim lucro de 2.43% aproximadamente."
   ]
  },
  {
   "cell_type": "markdown",
   "metadata": {},
   "source": [
    "## Testando com dados de 2019\n",
    "\n",
    "<p>Pegando dados de 2019 para treinar a rede, e testando com dados de janeiro de 2020"
   ]
  },
  {
   "cell_type": "code",
   "execution_count": 50,
   "metadata": {},
   "outputs": [
    {
     "data": {
      "text/plain": [
       "(251, 7)"
      ]
     },
     "execution_count": 50,
     "metadata": {},
     "output_type": "execute_result"
    }
   ],
   "source": [
    "apple_training_complete = pd.read_csv('dataset/AAPL_2019.csv')\n",
    "apple_training_complete.shape\n"
   ]
  },
  {
   "cell_type": "code",
   "execution_count": 55,
   "metadata": {},
   "outputs": [
    {
     "name": "stdout",
     "output_type": "stream",
     "text": [
      "Epoch 1/100\n",
      "191/191 [==============================] - 1s 5ms/step - loss: 7.7676e-04\n",
      "Epoch 2/100\n",
      "191/191 [==============================] - 1s 5ms/step - loss: 8.2855e-04\n",
      "Epoch 3/100\n",
      "191/191 [==============================] - 1s 5ms/step - loss: 8.7173e-04\n",
      "Epoch 4/100\n",
      "191/191 [==============================] - 1s 5ms/step - loss: 9.8016e-04\n",
      "Epoch 5/100\n",
      "191/191 [==============================] - 1s 5ms/step - loss: 7.7882e-04\n",
      "Epoch 6/100\n",
      "191/191 [==============================] - 1s 5ms/step - loss: 8.1107e-04\n",
      "Epoch 7/100\n",
      "191/191 [==============================] - 1s 5ms/step - loss: 7.3214e-04\n",
      "Epoch 8/100\n",
      "191/191 [==============================] - 1s 5ms/step - loss: 0.0010\n",
      "Epoch 9/100\n",
      "191/191 [==============================] - 1s 6ms/step - loss: 7.7799e-04\n",
      "Epoch 10/100\n",
      "191/191 [==============================] - 1s 5ms/step - loss: 8.7306e-04\n",
      "Epoch 11/100\n",
      "191/191 [==============================] - 1s 5ms/step - loss: 7.8672e-04\n",
      "Epoch 12/100\n",
      "191/191 [==============================] - 1s 6ms/step - loss: 9.9909e-04\n",
      "Epoch 13/100\n",
      "191/191 [==============================] - 1s 7ms/step - loss: 7.4388e-04\n",
      "Epoch 14/100\n",
      "191/191 [==============================] - 1s 7ms/step - loss: 9.0324e-04\n",
      "Epoch 15/100\n",
      "191/191 [==============================] - 1s 7ms/step - loss: 8.0370e-04\n",
      "Epoch 16/100\n",
      "191/191 [==============================] - 1s 5ms/step - loss: 7.4827e-04\n",
      "Epoch 17/100\n",
      "191/191 [==============================] - 1s 5ms/step - loss: 8.1137e-04\n",
      "Epoch 18/100\n",
      "191/191 [==============================] - 1s 5ms/step - loss: 9.0577e-04\n",
      "Epoch 19/100\n",
      "191/191 [==============================] - 1s 6ms/step - loss: 6.4439e-04\n",
      "Epoch 20/100\n",
      "191/191 [==============================] - 1s 6ms/step - loss: 7.0773e-04\n",
      "Epoch 21/100\n",
      "191/191 [==============================] - 1s 7ms/step - loss: 7.3383e-04\n",
      "Epoch 22/100\n",
      "191/191 [==============================] - 1s 6ms/step - loss: 8.1006e-04\n",
      "Epoch 23/100\n",
      "191/191 [==============================] - 1s 6ms/step - loss: 7.9800e-04\n",
      "Epoch 24/100\n",
      "191/191 [==============================] - 1s 5ms/step - loss: 5.9482e-04\n",
      "Epoch 25/100\n",
      "191/191 [==============================] - 1s 5ms/step - loss: 8.4556e-04\n",
      "Epoch 26/100\n",
      "191/191 [==============================] - 1s 5ms/step - loss: 8.8696e-04\n",
      "Epoch 27/100\n",
      "191/191 [==============================] - 1s 5ms/step - loss: 7.8560e-04\n",
      "Epoch 28/100\n",
      "191/191 [==============================] - 1s 5ms/step - loss: 8.4087e-04\n",
      "Epoch 29/100\n",
      "191/191 [==============================] - 1s 5ms/step - loss: 8.8902e-04\n",
      "Epoch 30/100\n",
      "191/191 [==============================] - 1s 5ms/step - loss: 8.5415e-04\n",
      "Epoch 31/100\n",
      "191/191 [==============================] - 1s 6ms/step - loss: 9.2089e-04\n",
      "Epoch 32/100\n",
      "191/191 [==============================] - 1s 5ms/step - loss: 9.3946e-04\n",
      "Epoch 33/100\n",
      "191/191 [==============================] - 1s 5ms/step - loss: 9.4723e-04\n",
      "Epoch 34/100\n",
      "191/191 [==============================] - 1s 5ms/step - loss: 8.2157e-04\n",
      "Epoch 35/100\n",
      "191/191 [==============================] - 1s 5ms/step - loss: 8.6505e-04\n",
      "Epoch 36/100\n",
      "191/191 [==============================] - 1s 6ms/step - loss: 7.9514e-04\n",
      "Epoch 37/100\n",
      "191/191 [==============================] - 1s 6ms/step - loss: 7.9470e-04\n",
      "Epoch 38/100\n",
      "191/191 [==============================] - 1s 6ms/step - loss: 7.8707e-04\n",
      "Epoch 39/100\n",
      "191/191 [==============================] - 1s 6ms/step - loss: 7.9810e-04\n",
      "Epoch 40/100\n",
      "191/191 [==============================] - 1s 6ms/step - loss: 7.5603e-04\n",
      "Epoch 41/100\n",
      "191/191 [==============================] - 1s 5ms/step - loss: 7.2091e-04\n",
      "Epoch 42/100\n",
      "191/191 [==============================] - 1s 6ms/step - loss: 9.5232e-04\n",
      "Epoch 43/100\n",
      "191/191 [==============================] - 1s 7ms/step - loss: 9.4202e-04\n",
      "Epoch 44/100\n",
      "191/191 [==============================] - 2s 8ms/step - loss: 8.9717e-04\n",
      "Epoch 45/100\n",
      "191/191 [==============================] - 1s 6ms/step - loss: 0.0010\n",
      "Epoch 46/100\n",
      "191/191 [==============================] - 1s 6ms/step - loss: 9.3770e-04\n",
      "Epoch 47/100\n",
      "191/191 [==============================] - 1s 6ms/step - loss: 0.0010\n",
      "Epoch 48/100\n",
      "191/191 [==============================] - 1s 5ms/step - loss: 7.9890e-04\n",
      "Epoch 49/100\n",
      "191/191 [==============================] - 1s 5ms/step - loss: 7.4247e-04\n",
      "Epoch 50/100\n",
      "191/191 [==============================] - 1s 5ms/step - loss: 8.5416e-04\n",
      "Epoch 51/100\n",
      "191/191 [==============================] - 1s 5ms/step - loss: 7.7878e-04\n",
      "Epoch 52/100\n",
      "191/191 [==============================] - 1s 6ms/step - loss: 7.6076e-04\n",
      "Epoch 53/100\n",
      "191/191 [==============================] - 1s 5ms/step - loss: 8.3447e-04\n",
      "Epoch 54/100\n",
      "191/191 [==============================] - 1s 6ms/step - loss: 7.9169e-04\n",
      "Epoch 55/100\n",
      "191/191 [==============================] - 1s 6ms/step - loss: 6.8749e-04\n",
      "Epoch 56/100\n",
      "191/191 [==============================] - 2s 11ms/step - loss: 7.7961e-04\n",
      "Epoch 57/100\n",
      "191/191 [==============================] - 1s 6ms/step - loss: 7.2251e-04\n",
      "Epoch 58/100\n",
      "191/191 [==============================] - 1s 6ms/step - loss: 5.7506e-04\n",
      "Epoch 59/100\n",
      "191/191 [==============================] - 1s 6ms/step - loss: 7.3734e-04\n",
      "Epoch 60/100\n",
      "191/191 [==============================] - 1s 6ms/step - loss: 8.7069e-04\n",
      "Epoch 61/100\n",
      "191/191 [==============================] - 1s 6ms/step - loss: 7.9756e-04\n",
      "Epoch 62/100\n",
      "191/191 [==============================] - 1s 7ms/step - loss: 7.4689e-04\n",
      "Epoch 63/100\n",
      "191/191 [==============================] - 1s 6ms/step - loss: 7.1646e-04\n",
      "Epoch 64/100\n",
      "191/191 [==============================] - 1s 6ms/step - loss: 8.3374e-04\n",
      "Epoch 65/100\n",
      "191/191 [==============================] - 1s 6ms/step - loss: 7.5471e-04\n",
      "Epoch 66/100\n",
      "191/191 [==============================] - 1s 6ms/step - loss: 7.7820e-04\n",
      "Epoch 67/100\n",
      "191/191 [==============================] - 1s 6ms/step - loss: 8.7856e-04\n",
      "Epoch 68/100\n",
      "191/191 [==============================] - 1s 5ms/step - loss: 9.4120e-04\n",
      "Epoch 69/100\n",
      "191/191 [==============================] - 1s 5ms/step - loss: 8.0170e-04\n",
      "Epoch 70/100\n",
      "191/191 [==============================] - 1s 6ms/step - loss: 8.1214e-04\n",
      "Epoch 71/100\n",
      "191/191 [==============================] - 1s 6ms/step - loss: 7.3061e-04\n",
      "Epoch 72/100\n",
      "191/191 [==============================] - 1s 6ms/step - loss: 7.7253e-04\n",
      "Epoch 73/100\n",
      "191/191 [==============================] - 1s 6ms/step - loss: 7.6453e-04\n",
      "Epoch 74/100\n",
      "191/191 [==============================] - 1s 6ms/step - loss: 8.3651e-04\n",
      "Epoch 75/100\n",
      "191/191 [==============================] - 1s 6ms/step - loss: 8.7553e-04\n",
      "Epoch 76/100\n",
      "191/191 [==============================] - 1s 6ms/step - loss: 8.7005e-04\n",
      "Epoch 77/100\n",
      "191/191 [==============================] - 1s 5ms/step - loss: 6.9441e-04\n",
      "Epoch 78/100\n",
      "191/191 [==============================] - 1s 5ms/step - loss: 8.0531e-04\n",
      "Epoch 79/100\n",
      "191/191 [==============================] - 1s 6ms/step - loss: 8.9975e-04\n",
      "Epoch 80/100\n",
      "191/191 [==============================] - 1s 7ms/step - loss: 9.8863e-04\n",
      "Epoch 81/100\n",
      "191/191 [==============================] - 1s 6ms/step - loss: 8.1357e-04\n",
      "Epoch 82/100\n",
      "191/191 [==============================] - 1s 6ms/step - loss: 9.7618e-04\n",
      "Epoch 83/100\n",
      "191/191 [==============================] - 1s 5ms/step - loss: 8.0686e-04\n",
      "Epoch 84/100\n",
      "191/191 [==============================] - 1s 5ms/step - loss: 7.1674e-04\n",
      "Epoch 85/100\n",
      "191/191 [==============================] - 1s 5ms/step - loss: 7.8117e-04\n",
      "Epoch 86/100\n",
      "191/191 [==============================] - 1s 5ms/step - loss: 7.3359e-04\n",
      "Epoch 87/100\n",
      "191/191 [==============================] - 1s 5ms/step - loss: 8.7364e-04\n",
      "Epoch 88/100\n",
      "191/191 [==============================] - 1s 5ms/step - loss: 7.3497e-04\n",
      "Epoch 89/100\n",
      "191/191 [==============================] - 1s 5ms/step - loss: 8.9143e-04\n",
      "Epoch 90/100\n",
      "191/191 [==============================] - 1s 5ms/step - loss: 9.2890e-04\n",
      "Epoch 91/100\n",
      "191/191 [==============================] - 1s 5ms/step - loss: 9.4247e-04\n",
      "Epoch 92/100\n",
      "191/191 [==============================] - 1s 5ms/step - loss: 8.9607e-04\n",
      "Epoch 93/100\n",
      "191/191 [==============================] - 1s 5ms/step - loss: 7.9477e-04\n",
      "Epoch 94/100\n",
      "191/191 [==============================] - 1s 5ms/step - loss: 7.4136e-04\n",
      "Epoch 95/100\n"
     ]
    },
    {
     "name": "stdout",
     "output_type": "stream",
     "text": [
      "191/191 [==============================] - 1s 5ms/step - loss: 6.5659e-04\n",
      "Epoch 96/100\n",
      "191/191 [==============================] - 1s 6ms/step - loss: 7.4409e-04\n",
      "Epoch 97/100\n",
      "191/191 [==============================] - 1s 5ms/step - loss: 6.9337e-04\n",
      "Epoch 98/100\n",
      "191/191 [==============================] - 1s 5ms/step - loss: 9.9904e-04\n",
      "Epoch 99/100\n",
      "191/191 [==============================] - 1s 5ms/step - loss: 9.8009e-04\n",
      "Epoch 100/100\n",
      "191/191 [==============================] - 1s 5ms/step - loss: 8.0519e-04\n"
     ]
    },
    {
     "data": {
      "text/plain": [
       "<keras.callbacks.callbacks.History at 0x240f03fab70>"
      ]
     },
     "execution_count": 55,
     "metadata": {},
     "output_type": "execute_result"
    }
   ],
   "source": [
    "#cabeçalho dos dados\n",
    "# Date  Open    High    Low    Close   Adj Close   Volume\n",
    "# data; valor abertura; valor máximo; valor mínima; valor de fechamento; asd;  volume de negociações\n",
    "\n",
    "#extraindo coluna de abertura de preço\n",
    "apple_training_processed = apple_training_complete.iloc[:, 1:2].values\n",
    "    \n",
    "#normalizando os dados\n",
    "scaler = MinMaxScaler(feature_range = (0, 1))\n",
    "apple_training_scaled = scaler.fit_transform(apple_training_processed)\n",
    "    \n",
    "#alterando o formato dos dados para comportar a LSTM\n",
    "features_set = []\n",
    "labels = []\n",
    "    \n",
    "for i in range(60, 251):\n",
    "    features_set.append(apple_training_scaled[i-60:i, 0])\n",
    "    j = apple_training_scaled[i, 0]\n",
    "    labels.append(j)\n",
    "\n",
    "features_set, labels = np.array(features_set), np.array(labels)\n",
    "\n",
    "\n",
    "features_set = np.reshape(features_set, (features_set.shape[0], features_set.shape[1], 1))\n",
    "\n",
    "\n",
    "checkpoint_file = \"checkpoint_2020\"\n",
    "\n",
    "#carregando os pesos da rede neural salvos no arquivo de checkpoint\n",
    "checkpoint_filepath = 'checkpoints/{}.ckpt'.format(checkpoint_file)\n",
    "model_checkpoint_callback = tf.keras.callbacks.ModelCheckpoint(\n",
    "filepath=checkpoint_filepath,\n",
    "save_weights_only=True,\n",
    "monitor='val_acc',\n",
    "mode='max',\n",
    "save_best_only=False,\n",
    "verbose=1)   \n",
    "\n",
    "model.load_weights(checkpoint_filepath)\n",
    "\n",
    "#treinando a rede neural \n",
    "model.fit(features_set, labels, epochs = 100, batch_size = 32)"
   ]
  },
  {
   "cell_type": "code",
   "execution_count": 54,
   "metadata": {},
   "outputs": [
    {
     "data": {
      "image/png": "[encoded data removed]",
      "text/plain": [
       "<Figure size 720x432 with 1 Axes>"
      ]
     },
     "metadata": {
      "needs_background": "light"
     },
     "output_type": "display_data"
    }
   ],
   "source": [
    "test_dataset_name = \"AAPL_jan_2020\"\n",
    "\n",
    "#carregando dataset de testes\n",
    "apple_testing_complete = pd.read_csv('dataset/{}.csv'.format(test_dataset_name))\n",
    "\n",
    "apple_testing_processed = apple_testing_complete.iloc[:, 1:2].values\n",
    "\n",
    "apple_total = pd.concat((apple_training_complete['Open'], apple_testing_complete['Open']), axis=0)\n",
    "\n",
    "test_inputs = apple_total[len(apple_total) - len(apple_testing_complete) - 60:].values\n",
    "\n",
    "\n",
    "test_inputs = test_inputs.reshape(-1,1)\n",
    "test_inputs = scaler.transform(test_inputs)\n",
    "\n",
    "test_features = []\n",
    "for i in range(60, 80):\n",
    "    test_features.append(test_inputs[i-60:i, 0])\n",
    "\n",
    "test_features = np.array(test_features)\n",
    "test_features = np.reshape(test_features, (test_features.shape[0], test_features.shape[1], 1))\n",
    "\n",
    "predictions = model.predict(test_features)\n",
    "\n",
    "predictions = scaler.inverse_transform(predictions)\n",
    "\n",
    "\n",
    "plt.figure(figsize=(10,6))\n",
    "plt.plot(apple_testing_processed, color='blue', label='Actual Apple Stock Price')\n",
    "plt.plot(predictions , color='red', label='Predicted Apple Stock Price')\n",
    "plt.title('Apple Stock Price Prediction')\n",
    "plt.xlabel('Date')\n",
    "plt.ylabel('Apple Stock Price')\n",
    "plt.legend()\n",
    "plt.show()"
   ]
  },
  {
   "cell_type": "markdown",
   "metadata": {},
   "source": [
    "<p> Novamente temos um resultado muito bom da rede. Tendo entrado no começo do mês a cotação de 74 dolares, e posicionando a ordem de venda nos 78 dolares, como sugere como preço máximo na linha vermelho de predição, o investidor teria ganhos de 5,4% de rentabilidade."
   ]
  },
  {
   "cell_type": "code",
   "execution_count": null,
   "metadata": {},
   "outputs": [],
   "source": []
  }
 ],
 "metadata": {
  "kernelspec": {
   "display_name": "Python 3",
   "language": "python",
   "name": "python3"
  },
  "language_info": {
   "codemirror_mode": {
    "name": "ipython",
    "version": 3
   },
   "file_extension": ".py",
   "mimetype": "text/x-python",
   "name": "python",
   "nbconvert_exporter": "python",
   "pygments_lexer": "ipython3",
   "version": "3.7.0"
  }
 },
 "nbformat": 4,
 "nbformat_minor": 2
}
